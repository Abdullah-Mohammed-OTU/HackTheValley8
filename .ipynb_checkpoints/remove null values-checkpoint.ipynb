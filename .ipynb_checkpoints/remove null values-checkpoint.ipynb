{
 "cells": [
  {
   "cell_type": "code",
   "execution_count": 1,
   "id": "c021b39d",
   "metadata": {},
   "outputs": [],
   "source": [
    "import pandas as pd"
   ]
  },
  {
   "cell_type": "code",
   "execution_count": null,
   "id": "bb7ef71b",
   "metadata": {},
   "outputs": [],
   "source": [
    "# Step 1: Load the CSV file into a pandas DataFrame\n",
    "data = pd.read_csv('toronto_temperature.csv')\n",
    "\n",
    "# Step 2: Remove rows with NaN values\n",
    "cleaned_data = data.dropna()\n",
    "\n",
    "# Step 3: Save the cleaned data back to the CSV file\n",
    "cleaned_data.to_csv('toronto_temperature_cleaned.csv', index=False)"
   ]
  }
 ],
 "metadata": {
  "kernelspec": {
   "display_name": "Python 3 (ipykernel)",
   "language": "python",
   "name": "python3"
  },
  "language_info": {
   "codemirror_mode": {
    "name": "ipython",
    "version": 3
   },
   "file_extension": ".py",
   "mimetype": "text/x-python",
   "name": "python",
   "nbconvert_exporter": "python",
   "pygments_lexer": "ipython3",
   "version": "3.9.16"
  }
 },
 "nbformat": 4,
 "nbformat_minor": 5
}
