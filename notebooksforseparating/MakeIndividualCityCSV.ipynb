{
 "cells": [
  {
   "cell_type": "code",
   "execution_count": 3,
   "id": "21a2dbe3",
   "metadata": {},
   "outputs": [],
   "source": [
    "import pandas as pd"
   ]
  },
  {
   "cell_type": "code",
   "execution_count": 4,
   "id": "5a5514de",
   "metadata": {},
   "outputs": [],
   "source": [
    "# Load your dataset\n",
    "data = pd.read_csv('GlobalLandTemperaturesByMajorCity.csv')  # replace with your file path\n",
    "\n",
    "# Filter the data for Toronto\n",
    "toronto_data = data[data['City'] == 'Toronto']  # Assuming 'city' is the column name\n",
    "\n",
    "# Save the filtered data to a new CSV\n",
    "toronto_data.to_csv('toronto_temperature.csv', index=False)\n"
   ]
  },
  {
   "cell_type": "code",
   "execution_count": null,
   "id": "5d777df0",
   "metadata": {},
   "outputs": [],
   "source": []
  }
 ],
 "metadata": {
  "kernelspec": {
   "display_name": "Python 3 (ipykernel)",
   "language": "python",
   "name": "python3"
  },
  "language_info": {
   "codemirror_mode": {
    "name": "ipython",
    "version": 3
   },
   "file_extension": ".py",
   "mimetype": "text/x-python",
   "name": "python",
   "nbconvert_exporter": "python",
   "pygments_lexer": "ipython3",
   "version": "3.9.16"
  }
 },
 "nbformat": 4,
 "nbformat_minor": 5
}
