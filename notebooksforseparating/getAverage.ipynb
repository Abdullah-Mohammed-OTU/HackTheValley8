{
 "cells": [
  {
   "cell_type": "code",
   "execution_count": 57,
   "id": "f613a7ba",
   "metadata": {},
   "outputs": [],
   "source": [
    "import pandas as pd"
   ]
  },
  {
   "cell_type": "code",
   "execution_count": 58,
   "id": "d9b0d95a",
   "metadata": {},
   "outputs": [],
   "source": [
    "# Read the file\n",
    "data = pd.read_csv('toronto_temperature_cleaned.csv')"
   ]
  },
  {
   "cell_type": "code",
   "execution_count": 59,
   "id": "83840fea",
   "metadata": {},
   "outputs": [],
   "source": [
    "# extract the year\n",
    "data['year'] = pd.to_datetime(data['dt']).dt.year\n",
    "data.drop_duplicates(subset='year', inplace=True)"
   ]
  },
  {
   "cell_type": "code",
   "execution_count": 60,
   "id": "67093364",
   "metadata": {},
   "outputs": [],
   "source": [
    "data.to_csv(\"test.csv\")"
   ]
  },
  {
   "cell_type": "code",
   "execution_count": 54,
   "id": "9de10f37",
   "metadata": {},
   "outputs": [
    {
     "name": "stdout",
     "output_type": "stream",
     "text": [
      "267\n",
      "267\n",
      "<bound method NDFrame.head of year\n",
      "1743    -0.106\n",
      "1744     5.892\n",
      "1745    -7.625\n",
      "1750    -8.613\n",
      "1751    -8.283\n",
      "         ...  \n",
      "2009   -10.656\n",
      "2010    -7.137\n",
      "2011    -9.348\n",
      "2012    -3.955\n",
      "2013    -4.681\n",
      "Name: AverageTemperature, Length: 267, dtype: float64>\n"
     ]
    }
   ],
   "source": [
    "# Group by year and calculate the average temperature for each year\n",
    "average_temperatures = data.groupby('year')['AverageTemperature'].mean()\n",
    "print(len(data['year']))\n",
    "print(len(average_temperatures))\n",
    "print(average_temperatures.head)"
   ]
  },
  {
   "cell_type": "code",
   "execution_count": 55,
   "id": "1156bb53",
   "metadata": {},
   "outputs": [],
   "source": [
    "df1 = pd.DataFrame({\n",
    "    'Year': data['year'], \n",
    "    'Average Temperature': average_temperatures\n",
    "})"
   ]
  },
  {
   "cell_type": "code",
   "execution_count": null,
   "id": "a966d754",
   "metadata": {},
   "outputs": [],
   "source": [
    "d"
   ]
  },
  {
   "cell_type": "code",
   "execution_count": 56,
   "id": "df69d42e",
   "metadata": {},
   "outputs": [],
   "source": [
    "df1.to_csv('toronto_average_temperatures_final.csv', index=False)"
   ]
  },
  {
   "cell_type": "code",
   "execution_count": null,
   "id": "9c4ddef6",
   "metadata": {},
   "outputs": [],
   "source": []
  }
 ],
 "metadata": {
  "kernelspec": {
   "display_name": "Python 3 (ipykernel)",
   "language": "python",
   "name": "python3"
  },
  "language_info": {
   "codemirror_mode": {
    "name": "ipython",
    "version": 3
   },
   "file_extension": ".py",
   "mimetype": "text/x-python",
   "name": "python",
   "nbconvert_exporter": "python",
   "pygments_lexer": "ipython3",
   "version": "3.9.16"
  }
 },
 "nbformat": 4,
 "nbformat_minor": 5
}
